{
 "cells": [
  {
   "cell_type": "code",
   "execution_count": 2,
   "metadata": {},
   "outputs": [],
   "source": [
    "import pandas as pd\n",
    "import numpy as np"
   ]
  },
  {
   "cell_type": "code",
   "execution_count": 2,
   "metadata": {},
   "outputs": [],
   "source": [
    "df=pd.read_csv('data/820chords.csv')"
   ]
  },
  {
   "cell_type": "code",
   "execution_count": 8,
   "metadata": {},
   "outputs": [
    {
     "data": {
      "text/plain": [
       "array([127, 130, 131, 132, 135,  18,  59,  74,  95])"
      ]
     },
     "execution_count": 8,
     "metadata": {},
     "output_type": "execute_result"
    }
   ],
   "source": [
    "(df.op.unique())"
   ]
  },
  {
   "cell_type": "markdown",
   "metadata": {},
   "source": [
    "## A few useful functions"
   ]
  },
  {
   "cell_type": "code",
   "execution_count": 3,
   "metadata": {},
   "outputs": [],
   "source": [
    "def denominator(train,test):\n",
    "    '''\n",
    "    Given train and test samples of ngram sequences, \n",
    "    calculates the number of times each of the sequences in test occur in train.\n",
    "    Returns an array containing occurence number of each ngram sample in test\n",
    "    \n",
    "    '''\n",
    "    occ=np.zeros(test.shape[0])\n",
    "    for i in range(0,test.shape[0]):\n",
    "        bool_=(train==test[i])\n",
    "        occ[i]=np.sum(np.sum(bool_,axis=1)==test.shape[1])\n",
    "    return occ\n",
    "    \n",
    "        "
   ]
  },
  {
   "cell_type": "code",
   "execution_count": 4,
   "metadata": {},
   "outputs": [],
   "source": [
    "def numerator(test):\n",
    "    '''\n",
    "    Given sample of ngrams\n",
    "    Returns a marix where each entry is the number of times\n",
    "    given sequence is followed by given chord in training data\n",
    "    \n",
    "    '''\n",
    "    num_occ=np.zeros((test.shape[0],len(chords)))\n",
    "    for i in range(0,len(chords)):\n",
    "        chord=np.repeat(chords[i],(test.shape[0],))\n",
    "        chord=chord.reshape(test.shape[0],1)\n",
    "        temp=np.hstack([test, chord]) \n",
    "        num_occ[:,i]=denominator(ngram,temp)\n",
    "    return num_occ\n",
    "        \n"
   ]
  },
  {
   "cell_type": "markdown",
   "metadata": {},
   "source": [
    "## Cross Validation Setup (per opus)"
   ]
  },
  {
   "cell_type": "markdown",
   "metadata": {},
   "source": [
    "# N=2: bigrams"
   ]
  },
  {
   "cell_type": "code",
   "execution_count": null,
   "metadata": {},
   "outputs": [],
   "source": [
    "opus=df.op.unique()\n",
    "acc2=np.zeros(len(opus))\n",
    "n=2\n",
    "for p in range(0,len(opus)):\n",
    "    \n",
    "    train = df.loc[df['op'] != opus[p]]\n",
    "    val = df.loc[df['op']==opus[p]]\n",
    "    chords=train.chord.unique()\n",
    "    corpus=train.chord.values\n",
    "    ngram= []\n",
    "#N gram generation: training\n",
    "    for i in range(0,len(corpus) - (n +1)):\n",
    "        in_data = corpus[i:n + i]\n",
    "        ngram.append(in_data)\n",
    "    ngram=np.array(ngram)\n",
    "    train_x=ngram[:,:n-1]\n",
    "    train_y=ngram[:,-1]\n",
    "#N gram generation: validation\n",
    "    corpus_val=val.chord.values\n",
    "    ngram_val=[]\n",
    "    for i in range(0,len(corpus_val) - (n +1)):\n",
    "        in_data =corpus_val[i:n + i]\n",
    "        ngram_val.append(in_data)\n",
    "    ngram_val=np.array(ngram_val)\n",
    "    val_x=ngram_val[:,:n-1]\n",
    "    val_y=ngram_val[:,-1]\n",
    "        #chord_prob=np.zeros((test_x.shape[0],len(chords)))\n",
    "        # Calculating the probabilities P(seq,chord)/P(seq) (Added Smoothing)\n",
    "    a=numerator(val_x)+1\n",
    "    print(a)\n",
    "    b=denominator(train_x,val_x)+len(chords)\n",
    "    print(b)\n",
    "        #chord_prob=((numerator(test_x)+1).T/(denominator(train_x,test_x)+len(chords))).T\n",
    "        #a.T/b.T\n",
    "    max_ind=np.zeros(val_x.shape[0])\n",
    "    max_ind=np.argmax(a.T/b.T,axis=0)\n",
    "    pred=np.empty((val_x.shape[0],1),dtype=\"<U10\")\n",
    "    for i in range(0,len(pred)):\n",
    "        pred[i]=chords[max_ind[i]]\n",
    "    acc2[p]=np.sum(pred.flatten()==val_y)/len(pred)\n",
    "    print(acc2[p])\n",
    "print(acc2)"
   ]
  },
  {
   "cell_type": "markdown",
   "metadata": {},
   "source": [
    "# N=3 "
   ]
  },
  {
   "cell_type": "code",
   "execution_count": 13,
   "metadata": {},
   "outputs": [
    {
     "name": "stdout",
     "output_type": "stream",
     "text": [
      "[[55.  6.  7. ...  1.  1.  1.]\n",
      " [11. 40.  9. ...  1.  1.  1.]\n",
      " [ 4.  4.  3. ...  1.  1.  1.]\n",
      " ...\n",
      " [ 9. 13. 10. ...  1.  1.  1.]\n",
      " [ 2.  2.  1. ...  1.  1.  1.]\n",
      " [ 1.  1.  3. ...  1.  1.  1.]]\n",
      "[986. 988. 942. ... 994. 783. 781.]\n",
      "0.17501127649977447\n",
      "[[ 33.  17.   8. ...   1.   1.   1.]\n",
      " [  2.   4.   1. ...   1.   1.   1.]\n",
      " [  7.   5.   9. ...   1.   1.   1.]\n",
      " ...\n",
      " [169.  42.  38. ...   1.   1.   2.]\n",
      " [216.   5.   9. ...   1.   1.   1.]\n",
      " [169.  42.  38. ...   1.   1.   2.]]\n",
      "[ 919.  810.  864. ... 1626. 1136. 1626.]\n",
      "0.20720356131121004\n",
      "[[ 1.  1.  1. ...  1.  1.  1.]\n",
      " [ 1.  7.  4. ...  1.  1.  1.]\n",
      " [ 1.  3.  1. ...  1.  1.  1.]\n",
      " ...\n",
      " [ 6.  2.  1. ...  1.  1.  1.]\n",
      " [ 2.  1.  1. ...  1.  1.  1.]\n",
      " [46. 22. 17. ...  1.  1.  1.]]\n",
      "[ 758.  811.  779. ...  772.  768. 1015.]\n",
      "0.18352206169465052\n",
      "[[ 1.  1.  1. ...  1.  1.  1.]\n",
      " [ 4.  3.  1. ...  1.  1.  1.]\n",
      " [ 2.  1.  3. ...  1.  1.  1.]\n",
      " ...\n",
      " [91.  7. 15. ...  1.  1.  1.]\n",
      " [33. 27. 11. ...  1.  1.  1.]\n",
      " [91.  7. 15. ...  1.  1.  1.]]\n",
      "[ 720.  764.  740. ...  971. 1048.  971.]\n",
      "0.14356232003290828\n",
      "[[ 1.  1.  1. ...  1.  1.  1.]\n",
      " [15.  3.  4. ...  1.  1.  1.]\n",
      " [ 1.  1.  1. ...  1.  1.  1.]\n",
      " ...\n",
      " [ 3.  1.  3. ...  1.  1.  1.]\n",
      " [10. 15. 12. ...  1.  1.  1.]\n",
      " [47. 31. 22. ...  1.  1.  1.]]\n",
      "[ 760.  838.  768. ...  771.  987. 1021.]\n",
      "0.176158940397351\n",
      "[[71.  7.  9. ...  1.  1.  1.]\n",
      " [27. 16.  6. ...  1.  1.  1.]\n",
      " [ 7.  2.  2. ...  1.  1.  1.]\n",
      " ...\n",
      " [ 8.  2.  2. ...  1.  1.  1.]\n",
      " [ 5. 11.  3. ...  1.  1.  1.]\n",
      " [71.  7.  9. ...  1.  1.  1.]]\n",
      "[891. 950. 757. ... 718. 798. 891.]\n",
      "0.22763653483992466\n",
      "[[ 8.  4.  6. ...  1.  1.  1.]\n",
      " [27.  5.  5. ...  1.  1.  1.]\n",
      " [ 2.  1.  1. ...  1.  1.  1.]\n",
      " ...\n",
      " [ 9. 13. 12. ...  1.  1.  1.]\n",
      " [27.  5.  5. ...  1.  1.  1.]\n",
      " [13.  3. 12. ...  1.  1.  1.]]\n",
      "[812. 811. 730. ... 946. 811. 765.]\n",
      "0.19385555156306145\n",
      "[[ 8. 13.  3. ...  1.  1.  1.]\n",
      " [ 7.  2. 11. ...  1.  1.  1.]\n",
      " [ 4.  1.  1. ...  1.  1.  1.]\n",
      " ...\n",
      " [ 2.  2.  3. ...  1.  1.  1.]\n",
      " [ 2.  1.  1. ...  1.  1.  1.]\n",
      " [20.  2.  3. ...  1.  1.  1.]]\n",
      "[968. 884. 793. ... 816. 803. 837.]\n",
      "0.20170827858081472\n",
      "[[ 10.   1.   3. ...   1.   2.   1.]\n",
      " [ 10.  10.   6. ...   1.   1.   1.]\n",
      " [ 10.   1.   3. ...   1.   2.   1.]\n",
      " ...\n",
      " [ 35.   4.   1. ...   1.   1.   1.]\n",
      " [179.  42.  45. ...   1.   1.   1.]\n",
      " [231.   5.  11. ...   1.   1.   1.]]\n",
      "[ 915.  963.  915. ...  836. 1662. 1143.]\n",
      "0.13618677042801555\n",
      "[0.17501128 0.20720356 0.18352206 0.14356232 0.17615894 0.22763653\n",
      " 0.19385555 0.20170828 0.13618677]\n"
     ]
    }
   ],
   "source": [
    "opus=df.op.unique()\n",
    "acc3=np.zeros(len(opus))\n",
    "n=3\n",
    "for p in range(0,len(opus)):\n",
    "    \n",
    "    train = df.loc[df['op'] != opus[p]]\n",
    "    val = df.loc[df['op']==opus[p]]\n",
    "    chords=train.chord.unique()\n",
    "    corpus=train.chord.values\n",
    "    ngram= []\n",
    "#N gram generation: training\n",
    "    for i in range(0,len(corpus) - (n +1)):\n",
    "        in_data = corpus[i:n + i]\n",
    "        ngram.append(in_data)\n",
    "    ngram=np.array(ngram)\n",
    "    train_x=ngram[:,:n-1]\n",
    "    train_y=ngram[:,-1]\n",
    "#N gram generation: validation\n",
    "    corpus_val=val.chord.values\n",
    "    ngram_val=[]\n",
    "    for i in range(0,len(corpus_val) - (n +1)):\n",
    "        in_data =corpus_val[i:n + i]\n",
    "        ngram_val.append(in_data)\n",
    "    ngram_val=np.array(ngram_val)\n",
    "    val_x=ngram_val[:,:n-1]\n",
    "    val_y=ngram_val[:,-1]\n",
    "        #chord_prob=np.zeros((test_x.shape[0],len(chords)))\n",
    "        # Calculating the probabilities P(seq,chord)/P(seq) (Added Smoothing)\n",
    "    a=numerator(val_x)+1\n",
    "    print(a)\n",
    "    b=denominator(train_x,val_x)+len(chords)\n",
    "    print(b)\n",
    "        #chord_prob=((numerator(test_x)+1).T/(denominator(train_x,test_x)+len(chords))).T\n",
    "        #a.T/b.T\n",
    "    max_ind=np.zeros(val_x.shape[0])\n",
    "    max_ind=np.argmax(a.T/b.T,axis=0)\n",
    "    pred=np.empty((val_x.shape[0],1),dtype=\"<U10\")\n",
    "    for i in range(0,len(pred)):\n",
    "        pred[i]=chords[max_ind[i]]\n",
    "    acc3[p]=np.sum(pred.flatten()==val_y)/len(pred)\n",
    "    print(acc3[p])\n",
    "print(acc3)"
   ]
  },
  {
   "cell_type": "markdown",
   "metadata": {},
   "source": [
    "# Results for N=2"
   ]
  },
  {
   "cell_type": "code",
   "execution_count": 1,
   "metadata": {},
   "outputs": [
    {
     "ename": "NameError",
     "evalue": "name 'pd' is not defined",
     "output_type": "error",
     "traceback": [
      "\u001b[0;31m---------------------------------------------------------------------------\u001b[0m",
      "\u001b[0;31mNameError\u001b[0m                                 Traceback (most recent call last)",
      "\u001b[0;32m<ipython-input-1-548e12a127c7>\u001b[0m in \u001b[0;36m<module>\u001b[0;34m()\u001b[0m\n\u001b[0;32m----> 1\u001b[0;31m \u001b[0mscores\u001b[0m \u001b[0;34m=\u001b[0m \u001b[0mpd\u001b[0m\u001b[0;34m.\u001b[0m\u001b[0mDataFrame\u001b[0m\u001b[0;34m(\u001b[0m\u001b[0;34m{\u001b[0m\u001b[0;34m'opus'\u001b[0m\u001b[0;34m:\u001b[0m \u001b[0;34m[\u001b[0m\u001b[0;34m'18'\u001b[0m\u001b[0;34m,\u001b[0m \u001b[0;34m'59'\u001b[0m\u001b[0;34m,\u001b[0m \u001b[0;34m'74'\u001b[0m\u001b[0;34m,\u001b[0m \u001b[0;34m'95'\u001b[0m\u001b[0;34m,\u001b[0m \u001b[0;34m'127'\u001b[0m\u001b[0;34m,\u001b[0m \u001b[0;34m'130'\u001b[0m\u001b[0;34m,\u001b[0m\u001b[0;34m'131'\u001b[0m\u001b[0;34m,\u001b[0m\u001b[0;34m'132'\u001b[0m\u001b[0;34m,\u001b[0m\u001b[0;34m'135'\u001b[0m\u001b[0;34m,\u001b[0m\u001b[0;34m'mean'\u001b[0m\u001b[0;34m]\u001b[0m\u001b[0;34m,\u001b[0m \u001b[0;34m'val'\u001b[0m\u001b[0;34m:\u001b[0m \u001b[0;34m[\u001b[0m\u001b[0;36m0.19\u001b[0m\u001b[0;34m,\u001b[0m\u001b[0;36m0.22\u001b[0m\u001b[0;34m,\u001b[0m\u001b[0;36m0.18227947\u001b[0m\u001b[0;34m,\u001b[0m\u001b[0;36m0.16447368\u001b[0m\u001b[0;34m,\u001b[0m\u001b[0;36m0.19722038\u001b[0m\u001b[0;34m,\u001b[0m\u001b[0;36m0.23726021\u001b[0m\u001b[0;34m,\u001b[0m\u001b[0;36m0.18519849\u001b[0m\u001b[0;34m,\u001b[0m\u001b[0;36m0.2212738\u001b[0m\u001b[0;34m,\u001b[0m\u001b[0;36m0.15940902\u001b[0m\u001b[0;34m,\u001b[0m\u001b[0;36m0.19523500555555554\u001b[0m\u001b[0;34m]\u001b[0m\u001b[0;34m}\u001b[0m\u001b[0;34m)\u001b[0m\u001b[0;34m\u001b[0m\u001b[0m\n\u001b[0m",
      "\u001b[0;31mNameError\u001b[0m: name 'pd' is not defined"
     ]
    }
   ],
   "source": [
    "scores = pd.DataFrame({'opus': ['18', '59', '74', '95', '127', '130','131','132','135','mean'], 'val': [0.19,0.22,0.18227947,0.16447368,0.19722038,0.23726021,0.18519849,0.2212738,0.15940902,0.19523500555555554]})\n",
    "\n"
   ]
  },
  {
   "cell_type": "code",
   "execution_count": 5,
   "metadata": {},
   "outputs": [
    {
     "data": {
      "image/png": "[encoded data removed]",
      "text/plain": [
       "<Figure size 1500x1000 with 1 Axes>"
      ]
     },
     "metadata": {},
     "output_type": "display_data"
    }
   ],
   "source": [
    "#Plot them\n",
    "import seaborn as sns\n",
    "import matplotlib.pyplot as plt\n",
    "import matplotlib.pyplot as plt; plt.rcdefaults()\n",
    "sns.set()\n",
    "sns.set_style(\"whitegrid\")\n",
    "fig, ax = plt.subplots(figsize=(15,10))\n",
    "sns.barplot(x = 'opus', y = 'val',data=scores)\n",
    "#ax.set_title(\"Weighed accuracy on each opus\")\n",
    "ax.set_title(\"2-gram Model: Accuracy on each opus\")\n",
    "ax.set_ylabel(\"Accuracy (%)\")\n",
    "ax.set_xlabel(\"Opus\")\n",
    "#ax.set_yticklabels(scores['opus'])\n",
    "#fig.savefig(\"./figs/Weighed_NNacc_V.png\")\n",
    "fig.savefig(\"ngram.png\")\n",
    "plt.show()"
   ]
  },
  {
   "cell_type": "code",
   "execution_count": null,
   "metadata": {},
   "outputs": [],
   "source": []
  }
 ],
 "metadata": {
  "kernelspec": {
   "display_name": "Python 3",
   "language": "python",
   "name": "python3"
  },
  "language_info": {
   "codemirror_mode": {
    "name": "ipython",
    "version": 3
   },
   "file_extension": ".py",
   "mimetype": "text/x-python",
   "name": "python",
   "nbconvert_exporter": "python",
   "pygments_lexer": "ipython3",
   "version": "3.6.5"
  }
 },
 "nbformat": 4,
 "nbformat_minor": 2
}
